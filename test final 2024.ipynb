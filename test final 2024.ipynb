{
 "cells": [
  {
   "cell_type": "markdown",
   "metadata": {},
   "source": [
    "# ข้อสอบปลายภาควิชา การเขียนโปรแกรมเชิงวัตถุ"
   ]
  },
  {
   "cell_type": "code",
   "execution_count": null,
   "metadata": {},
   "outputs": [],
   "source": [
    "\"\"\"\n",
    "ชื่อ - สกุล - รหัส\n",
    "\n",
    "นาย กรวีร์ จูมจันทร์ 6612732101\n",
    "\"\"\""
   ]
  },
  {
   "cell_type": "markdown",
   "metadata": {},
   "source": [
    "## 1. เขียนโปรแกรมโดยใช้กลไกลการทำงานแบบ OOP ตามข้อกำหนดดังต่อไปนี้\n",
    "\n",
    "- จงสร้างคลาส Person\" ที่มีตัวแปร \"name\" และ \"age\" ซึ่งไม่สามารถเข้าถึงผ่านตัวแปร instance ได้ และเขียน method ที่ใช้สำหรับแก้ไข \"age\" จากภายในคลาส และ \"age\" จะต้องมีค่าเพิ่มขึ้นได้อย่างเดียวเท่านั้น\n",
    "\n",
    "- ภายใน Class Person กำหนดให้มี method ชื่อ getInfo() สำหรับแสดงข้อมูลบุคคลนั้น ๆ"
   ]
  },
  {
   "cell_type": "code",
   "execution_count": 80,
   "metadata": {
    "tags": []
   },
   "outputs": [],
   "source": [
    "# เขียนโปรแกรมในช่องนี้\n",
    "class Person:\n",
    "    def __init__(self, name, age):\n",
    "        self._name = name\n",
    "        self._age = age\n",
    "\n",
    "    def get_name(self):\n",
    "        return self._name\n",
    "\n",
    "    def get_age(self):\n",
    "        return self._age\n",
    "\n",
    "    def update_age(self, new_age):\n",
    "        if new_age > self._age:\n",
    "            self._age = new_age\n",
    "        else:\n",
    "            print(\"เปลี่ยนไม่ได้จ้าา\")\n",
    "\n",
    "    def get_info(self):\n",
    "        print(f\"ชื่อของคุณ คือ  {self._name}, อายุของคุณคือ {self._age}\")\n",
    "\n",
    "\n"
   ]
  },
  {
   "cell_type": "code",
   "execution_count": 81,
   "metadata": {
    "tags": []
   },
   "outputs": [],
   "source": [
    "# จงสร้างตัวแปร instance จากคลาส Person\n",
    "person1 = Person(\"กรวีร์\", 20)\n"
   ]
  },
  {
   "cell_type": "code",
   "execution_count": 82,
   "metadata": {
    "tags": []
   },
   "outputs": [
    {
     "name": "stdout",
     "output_type": "stream",
     "text": [
      "เปลี่ยนไม่ได้จ้าา\n"
     ]
    }
   ],
   "source": [
    "# จงกำหนดอายุให้แก่ age\n",
    "person1.update_age(13)"
   ]
  },
  {
   "cell_type": "code",
   "execution_count": 83,
   "metadata": {
    "tags": []
   },
   "outputs": [
    {
     "name": "stdout",
     "output_type": "stream",
     "text": [
      "ชื่อของคุณ คือ  กรวีร์, อายุของคุณคือ 20\n"
     ]
    }
   ],
   "source": [
    "# จงแสดงข้่อมูลบุคคลของตัวแปร instance \n",
    "person1.get_info()"
   ]
  },
  {
   "cell_type": "markdown",
   "metadata": {},
   "source": [
    "## 2.จงสร้างคลาส Student ที่มีการสืบทอดคุณสมบัติจากคลาส Person ในข้อที่ 1\n",
    "\n",
    "- ในคลาส Student จะมีคุณสมบัติเพิ่มเข้ามาดังต่อไปนี้ \"student_id\" คือ รหัสนักศึกษา, \"major\" คือ สาขาวิชา และทั้งสองจะต้องเป็นคุณสมบัติที่ไม่สามารถแก้ไขได้หลังจากสร้างตัวแปร Instance แล้ว\n",
    "\n",
    "- และใน method getInfo() ให้เพิ่มการแแสดง รหัสนักศึกษา และ สาชาวิชา เข้ามาด้วย"
   ]
  },
  {
   "cell_type": "code",
   "execution_count": 88,
   "metadata": {
    "tags": []
   },
   "outputs": [],
   "source": [
    "# เขียนโปรแกรมในช่องนี้\n",
    "class Student(Person):\n",
    "    def __init__(self, name, age, student_id, major):\n",
    "        super().__init__(name, age)\n",
    "        self._student_id = student_id\n",
    "        self._major = major\n",
    "\n",
    "    def get_student_id(self):\n",
    "        return self._student_id\n",
    "\n",
    "    def get_major(self):\n",
    "        return self._major\n",
    "\n",
    "    def get_info(self):\n",
    "        super().get_info()\n",
    "        print(f\"รหัสนักศึกษา: {self._student_id}\")\n",
    "        print(f\"สาขาวิชา: {self._major}\")\n",
    "\n"
   ]
  },
  {
   "cell_type": "code",
   "execution_count": 89,
   "metadata": {
    "tags": []
   },
   "outputs": [],
   "source": [
    "# จงสร้างตัวแปร instance จากคลาส Student\n",
    "student1 = Student(\"กรวีร์\", 20, \"6612732101\", \"วิทยาการคอมพิวเตอร์\")\n"
   ]
  },
  {
   "cell_type": "code",
   "execution_count": 90,
   "metadata": {
    "tags": []
   },
   "outputs": [
    {
     "name": "stdout",
     "output_type": "stream",
     "text": [
      "ชื่อของคุณ คือ  กรวีร์, อายุของคุณคือ 20\n",
      "รหัสนักศึกษา: 6612732101\n",
      "สาขาวิชา: วิทยาการคอมพิวเตอร์\n"
     ]
    }
   ],
   "source": [
    "# จงแสดงข้่อมูลนักเรียนของตัวแปร instance \n",
    "student1.get_info()\n"
   ]
  },
  {
   "cell_type": "markdown",
   "metadata": {},
   "source": [
    "## 3.จงสร้างคลาส ComSciStudent ที่มีการสืบทอดคุณสมบัติจากคลาส Student ในข้อที่ 2\n",
    "\n",
    "- ในคลาส ComSciStudent จะมีคุณสมบัติที่รับเข้ามาแค่ \"student_id\" คือ รหัสนักศึกษา, แต่ \"major\" คือ สาขาวิชา จะมีค่า default เป็น \"Computer Science\" และทั้งสองจะต้องเป็นคุณสมบัติที่ไม่สามารถแก้ไขได้หลังจากสร้างตัวแปร Instance แล้ว\n",
    "\n",
    "- ในคลาส ComSciStudent จะมีคุณสมบัติที่เพิ่มเข้ามา อีก 1 ตัว คือ ความถนัด หรือ aptitude เพิ่มเข้ามา ซึ่งจะสามารถกำหนดได้ในกระบวนการสร้างตัวแปร instance และจะสามารถแก้ไขได้อีกโดยการแก้ไขผ่าน method ได้เท่านั้น\n",
    "\n",
    "\n",
    "- ในคลาส ComSciStudent จะมี method ชื่อว่า Coding() ซึ่งจะนำเสนอข้อมูลว่า นักศึกษา รหัสนักศึกษา ชื่อ กำลังเขียนโปรแกรมอยู่\n",
    "\n",
    "- ในคลาส ComSciStudent จะมี method ชื่อว่า getAptitude() ซึ่งจะนำเสนอข้อมูลว่า นักศึกษา รหัสนักศึกษา ชื่อ มีความถนัดเรื่อง ..."
   ]
  },
  {
   "cell_type": "code",
   "execution_count": 106,
   "metadata": {
    "tags": []
   },
   "outputs": [],
   "source": [
    "# เขียนโปรแกรมในช่องนี้\n",
    "class Person:\n",
    "    def __init__(self, name, age):\n",
    "        self._name = name\n",
    "        self._age = age\n",
    "\n",
    "    def get_name(self):\n",
    "        return self._name\n",
    "\n",
    "    def get_age(self):\n",
    "        return self._age\n",
    "\n",
    "    def update_age(self, new_age):\n",
    "        if new_age > self._age:\n",
    "            self._age = new_age\n",
    "        else:\n",
    "            print(\"เปลี่ยนไม่ได้จ้าา\")\n",
    "\n",
    "    def get_info(self):\n",
    "        print(f\"ชื่อของคุณ คือ {self._name}, อายุของคุณคือ {self._age}\")\n",
    "\n",
    "\n",
    "class Student(Person):\n",
    "    def __init__(self, name, age, student_id, major):\n",
    "        super().__init__(name, age)\n",
    "        self._student_id = student_id\n",
    "        self._major = major\n",
    "\n",
    "    def get_student_id(self):\n",
    "        return self._student_id\n",
    "\n",
    "    def get_major(self):\n",
    "        return self._major\n",
    "\n",
    "    def get_info(self):\n",
    "        super().get_info()\n",
    "        print(f\"รหัสนักศึกษา: {self._student_id}\")\n",
    "        print(f\"สาขาวิชา: {self._major}\")\n",
    "\n",
    "\n",
    "class ComSciStudent(Student):\n",
    "    def __init__(self, name, age, student_id, aptitude=\"วิทยาการคอมพิวเตอร์\"):\n",
    "        super().__init__(name, age, student_id, aptitude)\n",
    "        self._aptitude = aptitude\n",
    "\n",
    "    def set_aptitude(self, aptitude):\n",
    "        self._aptitude = aptitude\n",
    "\n",
    "    def get_aptitude(self):\n",
    "        return self._aptitude\n",
    "\n",
    "    def coding(self):\n",
    "        print(f\"{self.get_name()} (รหัส: {self.get_student_id()}) กำลังเขียนโปรแกรมอยู่\")\n",
    "\n",
    "    def get_info(self):\n",
    "        super().get_info()\n",
    "        print(f\"ความถนัด: {self._aptitude}\")\n",
    "\n"
   ]
  },
  {
   "cell_type": "code",
   "execution_count": 107,
   "metadata": {
    "tags": []
   },
   "outputs": [],
   "source": [
    "# จงสร้างตัวแปร instance จากคลาส ComSciStudent\n",
    "com_sci_student = ComSciStudent(\"กรวีร์\", 20, \"123456789\")"
   ]
  },
  {
   "cell_type": "code",
   "execution_count": 108,
   "metadata": {
    "tags": []
   },
   "outputs": [
    {
     "name": "stdout",
     "output_type": "stream",
     "text": [
      "ชื่อของคุณ คือ กรวีร์, อายุของคุณคือ 20\n",
      "รหัสนักศึกษา: 123456789\n",
      "สาขาวิชา: วิทยาการคอมพิวเตอร์\n",
      "ความถนัด: วิทยาการคอมพิวเตอร์\n"
     ]
    }
   ],
   "source": [
    "# จงแสดงข้่อมูลนักเรียนของตัวแปร instance \n",
    "com_sci_student.get_info()\n"
   ]
  },
  {
   "cell_type": "code",
   "execution_count": 99,
   "metadata": {
    "tags": []
   },
   "outputs": [
    {
     "name": "stdout",
     "output_type": "stream",
     "text": [
      "กรวีร์ (รหัส: 123456789) กำลังเขียนโปรแกรมอยู่\n"
     ]
    }
   ],
   "source": [
    "# จงแสดงการ coding\n",
    "com_sci_student.coding()"
   ]
  },
  {
   "cell_type": "code",
   "execution_count": 105,
   "metadata": {
    "tags": []
   },
   "outputs": [
    {
     "name": "stdout",
     "output_type": "stream",
     "text": [
      "ความถนัด: Python Programming\n"
     ]
    }
   ],
   "source": [
    "# จงแสดงความถนัด\n",
    "print(f\"ความถนัด: {com_sci_student.get_aptitude()}\")"
   ]
  },
  {
   "cell_type": "code",
   "execution_count": 102,
   "metadata": {
    "tags": []
   },
   "outputs": [
    {
     "name": "stdout",
     "output_type": "stream",
     "text": [
      "ความถนัด: Python Programming\n"
     ]
    }
   ],
   "source": [
    "# จงแก้ไขความถนัด ให้เป็น Python Programing\n",
    "com_sci_student.set_aptitude(\"Python Programming\")\n",
    "print(f\"ความถนัด: {com_sci_student.get_aptitude()}\")\n"
   ]
  },
  {
   "cell_type": "code",
   "execution_count": null,
   "metadata": {},
   "outputs": [],
   "source": [
    "#################################################################################################################################################################\n",
    "# ข้อนี้ใช้ chat ครับอาจารย์ ทำไม่ทันเวลาหมดแล้ว T_T\n",
    "#################################################################################################################################################################"
   ]
  }
 ],
 "metadata": {
  "kernelspec": {
   "display_name": "Python 3 (ipykernel)",
   "language": "python",
   "name": "python3"
  },
  "language_info": {
   "codemirror_mode": {
    "name": "ipython",
    "version": 3
   },
   "file_extension": ".py",
   "mimetype": "text/x-python",
   "name": "python",
   "nbconvert_exporter": "python",
   "pygments_lexer": "ipython3",
   "version": "3.11.5"
  }
 },
 "nbformat": 4,
 "nbformat_minor": 4
}
