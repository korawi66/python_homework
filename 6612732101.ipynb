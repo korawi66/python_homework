{
 "cells": [
  {
   "cell_type": "code",
   "execution_count": null,
   "id": "9805fcdc-ced2-4860-8123-c21b5e5f13c6",
   "metadata": {},
   "outputs": [],
   "source": [
    "''' นาย กรวีร์ จุมจันทร์'''"
   ]
  },
  {
   "cell_type": "code",
   "execution_count": 10,
   "id": "87817a18-2704-43f9-b37a-bfaf67799d84",
   "metadata": {
    "tags": []
   },
   "outputs": [
    {
     "name": "stdout",
     "output_type": "stream",
     "text": [
      " *\n",
      " * *\n",
      " * * *\n",
      " * * * *\n",
      " * * * * *\n"
     ]
    }
   ],
   "source": [
    "#lesson 1\n",
    "for i in range(1, 6):\n",
    "    print(' *'*i)\n"
   ]
  },
  {
   "cell_type": "code",
   "execution_count": 64,
   "id": "662747aa-cb8f-423a-a6f3-0769186a7b47",
   "metadata": {
    "tags": []
   },
   "outputs": [
    {
     "name": "stdout",
     "output_type": "stream",
     "text": [
      "           *\n",
      "         * *\n",
      "       * * *\n",
      "     * * * *\n",
      "   * * * * *\n",
      " * * * * * *\n"
     ]
    }
   ],
   "source": [
    "#lesson 2\n",
    "num = 6\n",
    "end = num - 1\n",
    "for i in range (0, num):\n",
    "    for j in range(0, num):\n",
    "        if j >= end - i:\n",
    "            print(\" *\", end=\"\")\n",
    "        else:\n",
    "            print(\"  \", end=\"\")\n",
    "    print()"
   ]
  },
  {
   "cell_type": "code",
   "execution_count": 15,
   "id": "fa814dd9-c082-4d72-b2db-d7c3aa602bfd",
   "metadata": {
    "tags": []
   },
   "outputs": [
    {
     "name": "stdout",
     "output_type": "stream",
     "text": [
      " * * * * *\n",
      " * * * *\n",
      " * * *\n",
      " * *\n",
      " *\n"
     ]
    }
   ],
   "source": [
    "#lesson 3\n",
    "for i in range(5, 0, -1):\n",
    "    print(' *'*i)"
   ]
  },
  {
   "cell_type": "code",
   "execution_count": 83,
   "id": "9edeadfc-c052-4b2b-954b-9cce5eda9c56",
   "metadata": {
    "tags": []
   },
   "outputs": [
    {
     "name": "stdout",
     "output_type": "stream",
     "text": [
      "   *     *     *     *     *     *  \n",
      "      *     *     *     *     *  \n",
      "         *     *     *     *  \n",
      "            *     *     *  \n",
      "               *     *  \n",
      "                  *  \n",
      "                  \n",
      "                  \n",
      "                  \n",
      "                  \n",
      "                  \n"
     ]
    }
   ],
   "source": [
    "#lesson 4\n",
    "num = 6\n",
    "end = num - 1\n",
    "for i in range (-5, num):\n",
    "    for j in range(0, num):\n",
    "        if j >= end + i:\n",
    "            print(\"   *\", end=\"  \")\n",
    "        else:\n",
    "            print(\"  \", end=\" \")\n",
    "    print()"
   ]
  },
  {
   "cell_type": "code",
   "execution_count": null,
   "id": "0766867a-3ac5-47a0-9d23-1ee243f872c0",
   "metadata": {},
   "outputs": [],
   "source": []
  },
  {
   "cell_type": "code",
   "execution_count": null,
   "id": "3574cc9d-3ac2-4cb7-9cf1-5390dccfc314",
   "metadata": {},
   "outputs": [],
   "source": []
  },
  {
   "cell_type": "code",
   "execution_count": null,
   "id": "8c2ea9fd-e2ae-4039-8902-5c51d1b60f0f",
   "metadata": {},
   "outputs": [],
   "source": []
  }
 ],
 "metadata": {
  "kernelspec": {
   "display_name": "Python 3 (ipykernel)",
   "language": "python",
   "name": "python3"
  },
  "language_info": {
   "codemirror_mode": {
    "name": "ipython",
    "version": 3
   },
   "file_extension": ".py",
   "mimetype": "text/x-python",
   "name": "python",
   "nbconvert_exporter": "python",
   "pygments_lexer": "ipython3",
   "version": "3.11.5"
  }
 },
 "nbformat": 4,
 "nbformat_minor": 5
}
