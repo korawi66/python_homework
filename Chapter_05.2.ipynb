{
 "cells": [
  {
   "cell_type": "markdown",
   "id": "b444a2b1-1b6d-4176-8d1f-530254acfdc5",
   "metadata": {},
   "source": [
    "# แบบฝึกหัด บทที่ 5 ตัวแปรและประเภทข้อมูล (Dictionary)"
   ]
  },
  {
   "cell_type": "raw",
   "id": "fe5ae0b4-ef63-4826-accf-7927f7336ce9",
   "metadata": {},
   "source": [
    "\"\"\"\n",
    "นาย กรวีร์ จูมจันทร์ 6612732101\n",
    "\n",
    "\n",
    "\"\"\""
   ]
  },
  {
   "cell_type": "markdown",
   "id": "ee56ed63-0dad-4888-abb3-dac078c0177c",
   "metadata": {},
   "source": [
    "## 1.\tจงแปลงข้อมูลต่อไปนี้ให้เป็น Dictionary"
   ]
  },
  {
   "cell_type": "code",
   "execution_count": 3,
   "id": "94428f7b-4992-4b2f-9ee0-065385e26a1c",
   "metadata": {},
   "outputs": [
    {
     "data": {
      "text/plain": [
       "' \\n6611127320001 นาย ศักรินทร์ หาญทอง โรงเรียนวัดหลวงวิทยา\\n6611127320002 นาย ทวีพรโชค ดาวจันทร โรงเรียนนาเเก้ววิทยา\\n6611127320003 นาย ฐิราชัย พลหาญ โรงเรียนโขงเจียมวิทยาคม\\n6611127320004 นาย ชานนท์ รูปคุ้ม โรงเรียนบ้านกันทรารมย์\\n'"
      ]
     },
     "execution_count": 3,
     "metadata": {},
     "output_type": "execute_result"
    }
   ],
   "source": [
    "\"\"\" \n",
    "6611127320001 นาย ศักรินทร์ หาญทอง โรงเรียนวัดหลวงวิทยา\n",
    "6611127320002 นาย ทวีพรโชค ดาวจันทร โรงเรียนนาเเก้ววิทยา\n",
    "6611127320003 นาย ฐิราชัย พลหาญ โรงเรียนโขงเจียมวิทยาคม\n",
    "6611127320004 นาย ชานนท์ รูปคุ้ม โรงเรียนบ้านกันทรารมย์\n",
    "\"\"\""
   ]
  },
  {
   "cell_type": "code",
   "execution_count": 14,
   "id": "e1e84ee5-5a94-4245-bbeb-72aa64fd1413",
   "metadata": {
    "tags": []
   },
   "outputs": [],
   "source": [
    "# คำตอบ\n",
    "my_frind = {\n",
    "    '6611127320001' : {\n",
    "    'prefix' : 'นาย',\n",
    "    'name' : 'ศักรินทร์',\n",
    "    'lname' : 'หาญทอง',\n",
    "    'school' : 'โรงเรียนวัดหลวงวิทยา'\n",
    "    },\n",
    "    '6611127320002' : {\n",
    "    'prefix' : 'นาย',\n",
    "    'name' : 'ทวีพรโชค',\n",
    "    'lname' : 'ดาวจันทร',\n",
    "    'school' : 'โรงเรียนนาเเก้ววิทยา',\n",
    "    },\n",
    "    '6611127320003' : {\n",
    "    'prefix' : 'นาย',\n",
    "    'name' : 'ฐิราชัย',\n",
    "    'lname' : 'พลหาญ',\n",
    "    'school' : 'โรงเรียนโขงเจียมวิทยาคม'\n",
    "    },\n",
    "    '6611127320004' : {\n",
    "    'prefix' : 'นาย',\n",
    "    'name' : 'ชานนท์',\n",
    "    'lname' : 'รูปคุ้ม',\n",
    "    'school' : 'โรงเรียนบ้านกันทรารมย์'\n",
    "    },\n",
    "}\n",
    "    "
   ]
  },
  {
   "cell_type": "markdown",
   "id": "84f776e2-52c8-471d-867f-4215479ec8ff",
   "metadata": {},
   "source": [
    "## 2.จงแสดงวิธีการเข้าถึงเข้ามูลรายบุคคล"
   ]
  },
  {
   "cell_type": "code",
   "execution_count": 15,
   "id": "cbc8398d-c456-4868-972a-9977a7fd5d8a",
   "metadata": {
    "tags": []
   },
   "outputs": [
    {
     "name": "stdout",
     "output_type": "stream",
     "text": [
      "6611127320001 นาย ศักรินทร์ หาญทอง\n",
      "6611127320002 นาย ทวีพรโชค ดาวจันทร\n",
      "6611127320003 นาย ฐิราชัย พลหาญ\n",
      "6611127320004 นาย ชานนท์ รูปคุ้ม\n"
     ]
    }
   ],
   "source": [
    "for key in my_frind.keys():\n",
    "    print(\"{} {} {} {}\".format(\n",
    "    key,\n",
    "    my_frind.get(key).get(\"prefix\"),\n",
    "    my_frind.get(key).get(\"name\"),\n",
    "    my_frind.get(key).get(\"lname\"),\n",
    "    my_frind.get(key).get(\"school\"),\n",
    "    ))\n",
    "\n"
   ]
  },
  {
   "cell_type": "code",
   "execution_count": null,
   "id": "2a6abbdb-da6a-47b3-89b7-1aecc35283ce",
   "metadata": {},
   "outputs": [],
   "source": []
  }
 ],
 "metadata": {
  "kernelspec": {
   "display_name": "Python 3 (ipykernel)",
   "language": "python",
   "name": "python3"
  },
  "language_info": {
   "codemirror_mode": {
    "name": "ipython",
    "version": 3
   },
   "file_extension": ".py",
   "mimetype": "text/x-python",
   "name": "python",
   "nbconvert_exporter": "python",
   "pygments_lexer": "ipython3",
   "version": "3.11.5"
  }
 },
 "nbformat": 4,
 "nbformat_minor": 5
}
