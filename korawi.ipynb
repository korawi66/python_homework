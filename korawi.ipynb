{
 "cells": [
  {
   "cell_type": "code",
   "execution_count": 1,
   "id": "d46909cc-60a9-435b-ad9b-fb61c3c51167",
   "metadata": {
    "tags": []
   },
   "outputs": [
    {
     "name": "stdout",
     "output_type": "stream",
     "text": [
      "กรวีร์ จูมจันทร์ 6612732101\n"
     ]
    }
   ],
   "source": [
    "print(\"กรวีร์ จูมจันทร์ 6612732101\")"
   ]
  },
  {
   "cell_type": "code",
   "execution_count": null,
   "id": "650bd951-68b8-4aa1-b4a0-93e009f13358",
   "metadata": {},
   "outputs": [],
   "source": []
  }
 ],
 "metadata": {
  "kernelspec": {
   "display_name": "Python 3 (ipykernel)",
   "language": "python",
   "name": "python3"
  },
  "language_info": {
   "codemirror_mode": {
    "name": "ipython",
    "version": 3
   },
   "file_extension": ".py",
   "mimetype": "text/x-python",
   "name": "python",
   "nbconvert_exporter": "python",
   "pygments_lexer": "ipython3",
   "version": "3.11.5"
  }
 },
 "nbformat": 4,
 "nbformat_minor": 5
}
